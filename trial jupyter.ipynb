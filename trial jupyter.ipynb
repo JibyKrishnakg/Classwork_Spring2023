{
 "cells": [
  {
   "cell_type": "code",
   "execution_count": 2,
   "id": "06b96c60",
   "metadata": {},
   "outputs": [],
   "source": [
    "x=3"
   ]
  },
  {
   "cell_type": "code",
   "execution_count": 4,
   "id": "5295c72e",
   "metadata": {},
   "outputs": [],
   "source": [
    "y=5"
   ]
  },
  {
   "cell_type": "code",
   "execution_count": null,
   "id": "0b14c026",
   "metadata": {},
   "outputs": [],
   "source": [
    "k=x+y\n",
    "print(k)"
   ]
  },
  {
   "cell_type": "markdown",
   "id": "f2e1aad3",
   "metadata": {},
   "source": [
    "# Markdown\n",
    "## Hey How are you?"
   ]
  }
 ],
 "metadata": {
  "kernelspec": {
   "display_name": "Python 3 (ipykernel)",
   "language": "python",
   "name": "python3"
  },
  "language_info": {
   "codemirror_mode": {
    "name": "ipython",
    "version": 3
   },
   "file_extension": ".py",
   "mimetype": "text/x-python",
   "name": "python",
   "nbconvert_exporter": "python",
   "pygments_lexer": "ipython3",
   "version": "3.10.9"
  }
 },
 "nbformat": 4,
 "nbformat_minor": 5
}
